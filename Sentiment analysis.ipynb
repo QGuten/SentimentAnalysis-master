{
 "cells": [
  {
   "cell_type": "markdown",
   "metadata": {},
   "source": [
    "部分代码参考自知乎文章：[利用500W条微博语料对评论进行情感分析](https://zhuanlan.zhihu.com/p/30061051),语料库见文章内分享链接"
   ]
  },
  {
   "cell_type": "code",
   "execution_count": 2,
   "metadata": {},
   "outputs": [],
   "source": [
    "import mysql.connector\n",
    "\n",
    "mydb = mysql.connector.connect(\n",
    "  host=\"localhost\",\n",
    "  user=\"root\",\n",
    "  passwd=\"yourpassword\",\n",
    "  database=\"TEST\"\n",
    ")"
   ]
  },
  {
   "cell_type": "code",
   "execution_count": 4,
   "metadata": {},
   "outputs": [],
   "source": [
    "mycursor = mydb.cursor()\n",
    "mycursor.execute(\" delete from weibo where text=NULL\")\n"
   ]
  },
  {
   "cell_type": "code",
   "execution_count": 5,
   "metadata": {},
   "outputs": [],
   "source": [
    "mycursor = mydb.cursor()\n",
    "mycursor.execute(\" delete from weibo where text='Repost'\")"
   ]
  },
  {
   "cell_type": "code",
   "execution_count": 6,
   "metadata": {},
   "outputs": [],
   "source": [
    "mycursor = mydb.cursor()\n",
    "mycursor.execute(\" delete from weibo where text=''\")"
   ]
  },
  {
   "cell_type": "code",
   "execution_count": 1,
   "metadata": {},
   "outputs": [],
   "source": [
    "# 导入所需的库\n",
    "import re\n",
    "from snownlp import sentiment\n",
    "import numpy as np\n",
    "import pandas as pd\n",
    "import pymysql\n",
    "from snownlp import SnowNLP\n",
    "from snownlp import sentiment\n",
    "from snownlp.sentiment import Sentiment\n",
    "import matplotlib.pyplot as plt\n",
    "from tqdm import tqdm\n",
    "plt.style.use('ggplot')"
   ]
  },
  {
   "cell_type": "code",
   "execution_count": 9,
   "metadata": {},
   "outputs": [],
   "source": [
    "conn = pymysql.connect(host='localhost', user='root', password='yourpassword', charset=\"utf8\",use_unicode=False)  # 连接服务器\n",
    "with conn:\n",
    "    cur = conn.cursor()\n",
    "    cur.execute(\"SELECT * FROM test.weibo WHERE weiboId < '%d'\" % 6000000)\n",
    "    rows = cur.fetchall()\n"
   ]
  },
  {
   "cell_type": "code",
   "execution_count": 10,
   "metadata": {},
   "outputs": [],
   "source": [
    "comment = []\n",
    "for row in rows:\n",
    "    row = list(row)\n",
    "    comment.append(row[18])\n"
   ]
  },
  {
   "cell_type": "code",
   "execution_count": 2,
   "metadata": {},
   "outputs": [],
   "source": [
    "\n",
    "# 按文章的说法，初步筛选语料，大于0.8的归入积极，小于0.3的归入消极。\n",
    "def train_model(texts):\n",
    "    for li in tqdm(texts):\n",
    "        comm = li.decode('utf-8')\n",
    "        text = re.sub(r'(?:回复)?(?://)?@[\\w\\u2E80-\\u9FFF]+:?|\\[\\w+\\]', ',',comm)\n",
    "        score = SnowNLP(text)\n",
    "        if score.sentiments > 0.8:\n",
    "            with open('pos.txt', mode='a', encoding='utf-8') as g:\n",
    "                g.writelines(comm +\"\\n\")\n",
    "        elif score.sentiments < 0.3:\n",
    "            with open('neg.txt', mode='a', encoding='utf-8') as f:\n",
    "                f.writelines(comm + \"\\n\")\n",
    "        else:\n",
    "            pass"
   ]
  },
  {
   "cell_type": "code",
   "execution_count": 12,
   "metadata": {},
   "outputs": [
    {
     "name": "stdout",
     "output_type": "stream",
     "text": [
      "Wall time: 17h 25min 2s\n"
     ]
    }
   ],
   "source": [
    "%%time\n",
    "train_model(comment)\n"
   ]
  },
  {
   "cell_type": "code",
   "execution_count": 14,
   "metadata": {},
   "outputs": [
    {
     "name": "stdout",
     "output_type": "stream",
     "text": [
      "Wall time: 12h 46min 51s\n"
     ]
    }
   ],
   "source": [
    "%%time\n",
    "# 将上面筛选出的语料重新进行训练，\n",
    "\n",
    "sentiment.train('neg.txt', 'pos.txt')\n",
    " "
   ]
  },
  {
   "cell_type": "code",
   "execution_count": 15,
   "metadata": {},
   "outputs": [],
   "source": [
    "sentiment.save('sentiment.marshal')    # 保存新模型后替换默认模型或者讲路径指向新模型。"
   ]
  },
  {
   "cell_type": "code",
   "execution_count": 64,
   "metadata": {},
   "outputs": [
    {
     "name": "stdout",
     "output_type": "stream",
     "text": [
      "六小龄童\n",
      "0.8781921115138102\n"
     ]
    }
   ],
   "source": [
    "# 中文语料库训练出来很奇怪，名字也带有情感，整体情绪偏积极\n",
    "li = '六小龄童'\n",
    "text = re.sub(r'(?:回复)?(?://)?@[\\w\\u2E80-\\u9FFF]+:?|\\[\\w+\\]', '',li)\n",
    "print(text)\n",
    "s = SnowNLP(text)\n",
    "print(s.sentiments)"
   ]
  },
  {
   "cell_type": "markdown",
   "metadata": {},
   "source": [
    "### 模型训练完成，导入自己爬的微博数据"
   ]
  },
  {
   "cell_type": "code",
   "execution_count": 92,
   "metadata": {},
   "outputs": [],
   "source": [
    "# 选取了北京重度雾霾的三天作为分析数据\n",
    "comment = pd.read_csv('comment20180731_0802.csv', encoding='utf-8')\n",
    "tweet = pd.read_csv('tweet20180731_0802.csv', encoding='utf-8')\n",
    "\n",
    "# 标记出发自北京的评论\n",
    "comment['merge_id'] = comment['weibo_id']\n",
    "tweet['merge_id'] = tweet['_id']\n",
    "merge = comment.merge(tweet, on='merge_id')\n",
    "merge['is_beijing'] = merge['province'].map(lambda x: 1 if x == '北京' else 0)\n",
    "\n",
    "# 计算评论发出的时间距离微博发出的时间间隔\n",
    "merge['comment_time'] = merge['created_at_x'].map(lambda x: datetime.datetime(int(x[0:4]),int(x[5:7]),int(x[8:10]),int(x[11:13]),int(x[14:16])))\n",
    "merge['weibo_time'] = merge['created_at_y'].map(lambda x: datetime.datetime(int(x[0:4]),int(x[5:7]),int(x[8:10]),int(x[11:13]),int(x[14:16])))\n",
    "merge['time_interval'] = merge['comment_time'] - merge['weibo_time']\n",
    "\n",
    "# 选择微博发出3天内的用户评论\n",
    "merge['day3'] = merge['time_interval'].map(lambda x: 1 if x.days<3 else 0)\n",
    "day3 = merge[merge['day3']==1]"
   ]
  },
  {
   "cell_type": "code",
   "execution_count": 77,
   "metadata": {},
   "outputs": [
    {
     "data": {
      "text/html": [
       "<div>\n",
       "<style scoped>\n",
       "    .dataframe tbody tr th:only-of-type {\n",
       "        vertical-align: middle;\n",
       "    }\n",
       "\n",
       "    .dataframe tbody tr th {\n",
       "        vertical-align: top;\n",
       "    }\n",
       "\n",
       "    .dataframe thead th {\n",
       "        text-align: right;\n",
       "    }\n",
       "</style>\n",
       "<table border=\"1\" class=\"dataframe\">\n",
       "  <thead>\n",
       "    <tr style=\"text-align: right;\">\n",
       "      <th></th>\n",
       "      <th>_id_x</th>\n",
       "      <th>weibo_id</th>\n",
       "      <th>comment_user_id</th>\n",
       "      <th>created_at_x</th>\n",
       "      <th>content_x</th>\n",
       "      <th>like_num_x</th>\n",
       "      <th>crawl_time_x</th>\n",
       "      <th>province</th>\n",
       "      <th>city</th>\n",
       "      <th>merge_id</th>\n",
       "      <th>...</th>\n",
       "      <th>created_at_y</th>\n",
       "      <th>like_num_y</th>\n",
       "      <th>repost_num</th>\n",
       "      <th>comment_num</th>\n",
       "      <th>content_y</th>\n",
       "      <th>is_beijing</th>\n",
       "      <th>comment_time</th>\n",
       "      <th>weibo_time</th>\n",
       "      <th>time_interval</th>\n",
       "      <th>day3</th>\n",
       "    </tr>\n",
       "  </thead>\n",
       "  <tbody>\n",
       "    <tr>\n",
       "      <th>0</th>\n",
       "      <td>C_4312383817875910</td>\n",
       "      <td>2769897145_H5c8SjzsG</td>\n",
       "      <td>5347302211</td>\n",
       "      <td>2018-12-01 11:44:45</td>\n",
       "      <td>ppt</td>\n",
       "      <td>2</td>\n",
       "      <td>1551036368</td>\n",
       "      <td>山东</td>\n",
       "      <td>NaN</td>\n",
       "      <td>2769897145_H5c8SjzsG</td>\n",
       "      <td>...</td>\n",
       "      <td>2018-12-01 11:42:14</td>\n",
       "      <td>72</td>\n",
       "      <td>6</td>\n",
       "      <td>21</td>\n",
       "      <td>2018.12.1 雷霆VS老鹰 全场高清视频集锦。雷霆喜迎2连胜，43.9%的三分命中率命...</td>\n",
       "      <td>0</td>\n",
       "      <td>2018-12-01 11:44:00</td>\n",
       "      <td>2018-12-01 11:42:00</td>\n",
       "      <td>00:02:00</td>\n",
       "      <td>1</td>\n",
       "    </tr>\n",
       "    <tr>\n",
       "      <th>1</th>\n",
       "      <td>C_4312383977227063</td>\n",
       "      <td>2769897145_H5c8SjzsG</td>\n",
       "      <td>5873610688</td>\n",
       "      <td>2018-12-01 11:45:22</td>\n",
       "      <td>冲鸭</td>\n",
       "      <td>1</td>\n",
       "      <td>1551036368</td>\n",
       "      <td>其他</td>\n",
       "      <td>NaN</td>\n",
       "      <td>2769897145_H5c8SjzsG</td>\n",
       "      <td>...</td>\n",
       "      <td>2018-12-01 11:42:14</td>\n",
       "      <td>72</td>\n",
       "      <td>6</td>\n",
       "      <td>21</td>\n",
       "      <td>2018.12.1 雷霆VS老鹰 全场高清视频集锦。雷霆喜迎2连胜，43.9%的三分命中率命...</td>\n",
       "      <td>0</td>\n",
       "      <td>2018-12-01 11:45:00</td>\n",
       "      <td>2018-12-01 11:42:00</td>\n",
       "      <td>00:03:00</td>\n",
       "      <td>1</td>\n",
       "    </tr>\n",
       "    <tr>\n",
       "      <th>2</th>\n",
       "      <td>C_4312384254371170</td>\n",
       "      <td>2769897145_H5c8SjzsG</td>\n",
       "      <td>6520365853</td>\n",
       "      <td>2018-12-01 11:46:29</td>\n",
       "      <td>威少今天应该又是三双吧？</td>\n",
       "      <td>1</td>\n",
       "      <td>1551036368</td>\n",
       "      <td>广东</td>\n",
       "      <td>NaN</td>\n",
       "      <td>2769897145_H5c8SjzsG</td>\n",
       "      <td>...</td>\n",
       "      <td>2018-12-01 11:42:14</td>\n",
       "      <td>72</td>\n",
       "      <td>6</td>\n",
       "      <td>21</td>\n",
       "      <td>2018.12.1 雷霆VS老鹰 全场高清视频集锦。雷霆喜迎2连胜，43.9%的三分命中率命...</td>\n",
       "      <td>0</td>\n",
       "      <td>2018-12-01 11:46:00</td>\n",
       "      <td>2018-12-01 11:42:00</td>\n",
       "      <td>00:04:00</td>\n",
       "      <td>1</td>\n",
       "    </tr>\n",
       "    <tr>\n",
       "      <th>3</th>\n",
       "      <td>C_4312385990533122</td>\n",
       "      <td>2769897145_H5c8SjzsG</td>\n",
       "      <td>6111811717</td>\n",
       "      <td>2018-12-01 11:53:23</td>\n",
       "      <td>差一个篮板好可惜</td>\n",
       "      <td>0</td>\n",
       "      <td>1551036368</td>\n",
       "      <td>其他</td>\n",
       "      <td>NaN</td>\n",
       "      <td>2769897145_H5c8SjzsG</td>\n",
       "      <td>...</td>\n",
       "      <td>2018-12-01 11:42:14</td>\n",
       "      <td>72</td>\n",
       "      <td>6</td>\n",
       "      <td>21</td>\n",
       "      <td>2018.12.1 雷霆VS老鹰 全场高清视频集锦。雷霆喜迎2连胜，43.9%的三分命中率命...</td>\n",
       "      <td>0</td>\n",
       "      <td>2018-12-01 11:53:00</td>\n",
       "      <td>2018-12-01 11:42:00</td>\n",
       "      <td>00:11:00</td>\n",
       "      <td>1</td>\n",
       "    </tr>\n",
       "    <tr>\n",
       "      <th>4</th>\n",
       "      <td>C_4312387069145212</td>\n",
       "      <td>2769897145_H5c8SjzsG</td>\n",
       "      <td>6077850447</td>\n",
       "      <td>2018-12-01 11:57:39</td>\n",
       "      <td>雷霆总冠军</td>\n",
       "      <td>0</td>\n",
       "      <td>1551036368</td>\n",
       "      <td>四川</td>\n",
       "      <td>成都</td>\n",
       "      <td>2769897145_H5c8SjzsG</td>\n",
       "      <td>...</td>\n",
       "      <td>2018-12-01 11:42:14</td>\n",
       "      <td>72</td>\n",
       "      <td>6</td>\n",
       "      <td>21</td>\n",
       "      <td>2018.12.1 雷霆VS老鹰 全场高清视频集锦。雷霆喜迎2连胜，43.9%的三分命中率命...</td>\n",
       "      <td>0</td>\n",
       "      <td>2018-12-01 11:57:00</td>\n",
       "      <td>2018-12-01 11:42:00</td>\n",
       "      <td>00:15:00</td>\n",
       "      <td>1</td>\n",
       "    </tr>\n",
       "  </tbody>\n",
       "</table>\n",
       "<p>5 rows × 24 columns</p>\n",
       "</div>"
      ],
      "text/plain": [
       "                _id_x              weibo_id  comment_user_id  \\\n",
       "0  C_4312383817875910  2769897145_H5c8SjzsG       5347302211   \n",
       "1  C_4312383977227063  2769897145_H5c8SjzsG       5873610688   \n",
       "2  C_4312384254371170  2769897145_H5c8SjzsG       6520365853   \n",
       "3  C_4312385990533122  2769897145_H5c8SjzsG       6111811717   \n",
       "4  C_4312387069145212  2769897145_H5c8SjzsG       6077850447   \n",
       "\n",
       "          created_at_x     content_x  like_num_x  crawl_time_x province city  \\\n",
       "0  2018-12-01 11:44:45           ppt           2    1551036368       山东  NaN   \n",
       "1  2018-12-01 11:45:22            冲鸭           1    1551036368       其他  NaN   \n",
       "2  2018-12-01 11:46:29  威少今天应该又是三双吧？           1    1551036368       广东  NaN   \n",
       "3  2018-12-01 11:53:23      差一个篮板好可惜           0    1551036368       其他  NaN   \n",
       "4  2018-12-01 11:57:39         雷霆总冠军           0    1551036368       四川   成都   \n",
       "\n",
       "               merge_id  ...          created_at_y  like_num_y repost_num  \\\n",
       "0  2769897145_H5c8SjzsG  ...   2018-12-01 11:42:14          72          6   \n",
       "1  2769897145_H5c8SjzsG  ...   2018-12-01 11:42:14          72          6   \n",
       "2  2769897145_H5c8SjzsG  ...   2018-12-01 11:42:14          72          6   \n",
       "3  2769897145_H5c8SjzsG  ...   2018-12-01 11:42:14          72          6   \n",
       "4  2769897145_H5c8SjzsG  ...   2018-12-01 11:42:14          72          6   \n",
       "\n",
       "   comment_num                                          content_y  is_beijing  \\\n",
       "0           21  2018.12.1 雷霆VS老鹰 全场高清视频集锦。雷霆喜迎2连胜，43.9%的三分命中率命...           0   \n",
       "1           21  2018.12.1 雷霆VS老鹰 全场高清视频集锦。雷霆喜迎2连胜，43.9%的三分命中率命...           0   \n",
       "2           21  2018.12.1 雷霆VS老鹰 全场高清视频集锦。雷霆喜迎2连胜，43.9%的三分命中率命...           0   \n",
       "3           21  2018.12.1 雷霆VS老鹰 全场高清视频集锦。雷霆喜迎2连胜，43.9%的三分命中率命...           0   \n",
       "4           21  2018.12.1 雷霆VS老鹰 全场高清视频集锦。雷霆喜迎2连胜，43.9%的三分命中率命...           0   \n",
       "\n",
       "         comment_time          weibo_time time_interval  day3  \n",
       "0 2018-12-01 11:44:00 2018-12-01 11:42:00      00:02:00     1  \n",
       "1 2018-12-01 11:45:00 2018-12-01 11:42:00      00:03:00     1  \n",
       "2 2018-12-01 11:46:00 2018-12-01 11:42:00      00:04:00     1  \n",
       "3 2018-12-01 11:53:00 2018-12-01 11:42:00      00:11:00     1  \n",
       "4 2018-12-01 11:57:00 2018-12-01 11:42:00      00:15:00     1  \n",
       "\n",
       "[5 rows x 24 columns]"
      ]
     },
     "execution_count": 77,
     "metadata": {},
     "output_type": "execute_result"
    }
   ],
   "source": [
    "merge.head()"
   ]
  },
  {
   "cell_type": "code",
   "execution_count": 118,
   "metadata": {},
   "outputs": [],
   "source": [
    "# 定义一个函数计算评论的情绪分数\n",
    "\n",
    "def snowanalysis(self):\n",
    "    try:\n",
    "        num = len(self)\n",
    "    except:\n",
    "        num = self.size\n",
    "        \n",
    "    sentimentslist = []\n",
    "    for i in range(num):\n",
    "        li = self[i]\n",
    "        if li:   # 有些是空白评论，需要跳过     \n",
    "            # 正则表达式替换掉回复评论的开头“回复@……”\n",
    "            li = str(li)  # 统一转为字符串避免报错\n",
    "            \n",
    "            if li != 'nan':    # 存在一部分的空白评论\n",
    "                text = re.sub(r'(?:回复)?(?://)?@[\\w\\u2E80-\\u9FFF]+:?|\\[\\w+\\]', '', li)\n",
    "                # 中英文标点符号似乎带有情感，全部替换掉\n",
    "                r='[’！？：；【】，《》!\"#$%&\\'()（）“”…*+,-./:;<=>?@[\\\\]^_`{|}~]+'\n",
    "                text = re.sub(r, '', text)\n",
    "                # 给该条评论打分\n",
    "                if text:\n",
    "                    s = SnowNLP(text)\n",
    "#                     # 看看预测为中性的评论内容\n",
    "#                     if 0.45 < s.sentiments < 0.55:\n",
    "#                         print(text)\n",
    "#                         print('情绪分数：', s.sentiments)\n",
    "\n",
    "                    # 为了做频率直方图，把分数保存在numpy数组里\n",
    "                    sentimentslist.append(s.sentiments)\n",
    "                    score = np.array(sentimentslist)\n",
    "    \n",
    "    # 对分值进行归一化（尝试修正模型的偏移，非必须）\n",
    "    #score = score*0.5/0.7244678128321579\n",
    "    #score = (score - score.min()) / (score.max() - score.min())\n",
    "    \n",
    "    plt.subplot(121)\n",
    "    plt.hist(score, bins=np.arange(0, 1, 0.02), density=True)\n",
    "    plt.subplot(122)\n",
    "    plt.boxplot(score)\n",
    "    plt.show()\n",
    "    # 返回分值的列表\n",
    "    return score"
   ]
  },
  {
   "cell_type": "code",
   "execution_count": 93,
   "metadata": {},
   "outputs": [],
   "source": [
    "comment_bj = list(merge['content_x'][merge['is_beijing'] == 1])"
   ]
  },
  {
   "cell_type": "code",
   "execution_count": 76,
   "metadata": {},
   "outputs": [],
   "source": [
    "merge['no_haze'] = merge['province'].map(lambda x: 1 if x not in ['北京','其他','海外','河北'] else 0)\n",
    "comment_gd = list(merge['content_x'][merge['no_haze']==1])"
   ]
  },
  {
   "cell_type": "code",
   "execution_count": 89,
   "metadata": {},
   "outputs": [
    {
     "data": {
      "image/png": "[encoded data removed]",
      "text/plain": [
       "<Figure size 432x288 with 1 Axes>"
      ]
     },
     "metadata": {},
     "output_type": "display_data"
    }
   ],
   "source": [
    "plt.hist(bj, density=True, bins=np.arange(0, 1.01, 0.1), color='orange')\n",
    "plt.hist(gd, density=True, bins=np.arange(0, 1.01, 0.1), color='green', alpha = 0.5)\n",
    "plt.show()"
   ]
  },
  {
   "cell_type": "code",
   "execution_count": 80,
   "metadata": {},
   "outputs": [
    {
     "data": {
      "image/png": "[encoded data removed]",
      "text/plain": [
       "<Figure size 432x288 with 1 Axes>"
      ]
     },
     "metadata": {},
     "output_type": "display_data"
    }
   ],
   "source": [
    "plt.boxplot([bj, gd])\n",
    "plt.show()"
   ]
  },
  {
   "cell_type": "code",
   "execution_count": 105,
   "metadata": {},
   "outputs": [],
   "source": [
    "comment = pd.read_csv('comment20181201_03.csv', encoding='utf-8')\n",
    "tweet = pd.read_csv('tweet20181201_03.csv', encoding='utf-8')\n",
    "\n",
    "comment['merge_id'] = comment['weibo_id']\n",
    "tweet['merge_id'] = tweet['_id']\n",
    "merge = comment.merge(tweet, on='merge_id')\n",
    "merge['is_beijing'] = merge['province'].map(lambda x: 1 if x == '北京' else 0)"
   ]
  },
  {
   "cell_type": "code",
   "execution_count": 106,
   "metadata": {},
   "outputs": [
    {
     "data": {
      "text/plain": [
       "0.06965724902850201"
      ]
     },
     "execution_count": 106,
     "metadata": {},
     "output_type": "execute_result"
    }
   ],
   "source": [
    "s = SnowNLP('回复@_你要梦什么:事情发生在东北，就有很多人说东北这个那个的，真是无语的地域黑。还有钱外露，钱放在自己家里露给你看的啊？')\n",
    "s.sentiments"
   ]
  },
  {
   "cell_type": "code",
   "execution_count": 110,
   "metadata": {},
   "outputs": [],
   "source": [
    "comment_bj = list(day3['content_x'][day3['is_beijing'] == 1])\n",
    "comment_gd = list(day3['content_x'][day3['province'] == '广东'])\n",
    "comment_sh = list(day3['content_x'][day3['province'] == '上海'])"
   ]
  },
  {
   "cell_type": "code",
   "execution_count": 124,
   "metadata": {
    "scrolled": false
   },
   "outputs": [
    {
     "data": {
      "image/png": "[encoded data removed]",
      "text/plain": [
       "<Figure size 720x432 with 1 Axes>"
      ]
     },
     "metadata": {},
     "output_type": "display_data"
    }
   ],
   "source": [
    "plt.figure(figsize=(10,6))\n",
    "p1 = plt.hist(bj, density=True, bins=np.arange(0, 0.4, 0.03), color='steelblue', alpha =0.5)\n",
    "p2 = plt.hist(gd, density=True, bins=np.arange(0, 0.4, 0.03), color='red', alpha = 0.5)\n",
    "plt.title('Distribution of Negative Comments Within 3 days When Beijing Haze')\n",
    "plt.xlabel('Sentiment Score')\n",
    "plt.ylabel('Density (%)')\n",
    "plt.legend(['Beijing', 'Guangdong'], title='City')\n",
    "plt.savefig('p1.png')\n",
    "plt.show()"
   ]
  },
  {
   "cell_type": "markdown",
   "metadata": {},
   "source": [
    "在小于0.2的区间里北京的占比要多一些，似乎更偏激的消极评论更容易出现。"
   ]
  },
  {
   "cell_type": "code",
   "execution_count": 120,
   "metadata": {
    "scrolled": true
   },
   "outputs": [
    {
     "name": "stdout",
     "output_type": "stream",
     "text": [
      "易烊千玺吖\n",
      "情绪分数： 0.5466165329737394\n",
      "马蓉还有超话。哈哈\n",
      "情绪分数： 0.4737672181921908\n",
      "Emmm\n",
      "情绪分数： 0.5\n",
      "真的非常牛逼这个大姐\n",
      "情绪分数： 0.45192593495698663\n",
      "自编自导自演厉害了我的姐\n",
      "情绪分数： 0.5027751325727445\n",
      " \n",
      "情绪分数： 0.5262327818078083\n",
      "能啊\n",
      "情绪分数： 0.5262327818078083\n",
      "卸了没什么用\n",
      "情绪分数： 0.4537736930444728\n",
      "我还以为是我手机有问题不支持这个软件原来如此\n",
      "情绪分数： 0.462755022585275\n",
      "人家只是在做自己他活的坦坦荡荡。\n",
      "情绪分数： 0.5084838970607746\n",
      "为什么觉得他说话时候的动作神态好像金星啊\n",
      "情绪分数： 0.5417920429155534\n",
      "差不多就是年过半百了\n",
      "情绪分数： 0.4538681162280954\n",
      "对\n",
      "情绪分数： 0.5262327818078083\n",
      "nc\n",
      "情绪分数： 0.5\n",
      "哪里diss别人了\n",
      "情绪分数： 0.5013490597296458\n",
      "呸\n",
      "情绪分数： 0.5262327818078083\n",
      "不是打黑工的应该是溜了\n",
      "情绪分数： 0.45381471560901976\n",
      "牧羊犬警告和你更配哦\n",
      "情绪分数： 0.521787401102477\n",
      "1126事变\n",
      "情绪分数： 0.4737672181921908\n",
      "当你拿得起\n",
      "情绪分数： 0.5262327818078083\n",
      "我也\n",
      "情绪分数： 0.5262327818078083\n",
      "假的\n",
      "情绪分数： 0.5\n",
      "我的电动车叫小白玻尿酸鸭玩偶叫黄胖一个靠枕叫snake\n",
      "情绪分数： 0.49247269928402937\n",
      "小猪猪\n",
      "情绪分数： 0.5025370734601784\n",
      " \n",
      "情绪分数： 0.5262327818078083\n",
      "好暖\n",
      "情绪分数： 0.5\n",
      "崩坏的世界线\n",
      "情绪分数： 0.4737672181921908\n",
      "哈哈\n",
      "情绪分数： 0.5262327818078083\n",
      "我相信\n",
      "情绪分数： 0.5262327818078083\n",
      "好好听啊\n",
      "情绪分数： 0.46175896454978704\n",
      "我相信\n",
      "情绪分数： 0.5262327818078083\n",
      "精忠报国和我相信都太好听了\n",
      "情绪分数： 0.5108792541690291\n",
      "想作的梦从不怕别人看见 在这里我都能实现 我相信我就是我 我相信明天\n",
      "情绪分数： 0.46380247559622734\n",
      "Colar \n",
      "情绪分数： 0.5\n",
      "为什么欺负狗子 大人不管呢\n",
      "情绪分数： 0.5017159890790982\n",
      "。。。\n",
      "情绪分数： 0.4843517138599106\n",
      "我们壳哥真好看\n",
      "情绪分数： 0.4674090251150007\n",
      "die了\n",
      "情绪分数： 0.5\n",
      "扎心了\n",
      "情绪分数： 0.5\n",
      "发财\n",
      "情绪分数： 0.5\n",
      "想要和YFJ在一起\n",
      "情绪分数： 0.5180297910986704\n",
      "你要笑死我吗\n",
      "情绪分数： 0.4913691286285672\n",
      "你是魔鬼吗\n",
      "情绪分数： 0.5454545454545455\n",
      "古天乐李绮红其他的都是什么山寨啊一点高级感都没有\n",
      "情绪分数： 0.4990738117349882\n",
      "  \n",
      "情绪分数： 0.5262327818078083\n",
      "平平无奇古天乐\n",
      "情绪分数： 0.5486976325915107\n",
      "  \n",
      "情绪分数： 0.5262327818078083\n",
      "哈哈啊哈哈\n",
      "情绪分数： 0.5262327818078083\n",
      "  你们家唉\n",
      "情绪分数： 0.5\n",
      "装修的人才不管什么季节呢\n",
      "情绪分数： 0.5435459719080087\n",
      "️是补救三季度的亏损吧\n",
      "情绪分数： 0.4614981767152663\n",
      "pimetheus我一直觉得她像仙女\n",
      "情绪分数： 0.4737672181921908\n",
      "是的\n",
      "情绪分数： 0.5262327818078083\n",
      "试过现在依然在\n",
      "情绪分数： 0.5316383365526676\n",
      "尝试过 很不爽\n",
      "情绪分数： 0.49253959087838584\n",
      "我为什么看到了内衣带子\n",
      "情绪分数： 0.5\n",
      "SzeKi\n",
      "情绪分数： 0.5\n",
      "666\n",
      "情绪分数： 0.5\n",
      "贤贤这颜值我吹爆\n",
      "情绪分数： 0.5009770621561728\n",
      "SlimMathersIII\n",
      "情绪分数： 0.5\n",
      "同\n",
      "情绪分数： 0.5262327818078083\n",
      "有点想Sunnee了啊\n",
      "情绪分数： 0.5180297910986704\n",
      "给自己吃\n",
      "情绪分数： 0.518716577540107\n",
      "转发\n",
      "情绪分数： 0.5\n",
      "是的\n",
      "情绪分数： 0.5262327818078083\n",
      "哪里来的小仙女\n",
      "情绪分数： 0.5025370734601784\n",
      "美人如画\n",
      "情绪分数： 0.5\n",
      "妹女\n",
      "情绪分数： 0.5174285365593035\n",
      "丫丫\n",
      "情绪分数： 0.5\n",
      "不能洗头\n",
      "情绪分数： 0.5133192708250794\n",
      "全了\n",
      "情绪分数： 0.5286738351254483\n",
      "劉敏 看看\n",
      "情绪分数： 0.5\n"
     ]
    },
    {
     "data": {
      "image/png": "[encoded data removed]",
      "text/plain": [
       "<Figure size 432x288 with 2 Axes>"
      ]
     },
     "metadata": {},
     "output_type": "display_data"
    }
   ],
   "source": [
    "sh = snowanalysis(comment_sh)"
   ]
  },
  {
   "cell_type": "code",
   "execution_count": 101,
   "metadata": {},
   "outputs": [
    {
     "data": {
      "image/png": "[encoded data removed]",
      "text/plain": [
       "<Figure size 720x432 with 1 Axes>"
      ]
     },
     "metadata": {},
     "output_type": "display_data"
    }
   ],
   "source": [
    "plt.figure(figsize=(10,6))\n",
    "p1 = plt.hist(bj, density=True, bins=np.arange(0, 0.4, 0.03), color='steelblue', alpha =0.5)\n",
    "p2 = plt.hist(sh, density=True, bins=np.arange(0, 0.4, 0.03), color='red', alpha = 0.5)\n",
    "plt.title('Distribution of Negative Comments Within 3 days When Beijing Haze')\n",
    "plt.xlabel('Sentiment Score')\n",
    "plt.ylabel('Density (%)')\n",
    "plt.legend(['Beijing', 'Shanghai'], title='City')\n",
    "plt.savefig('p2.png')\n",
    "plt.show()"
   ]
  },
  {
   "cell_type": "code",
   "execution_count": 123,
   "metadata": {},
   "outputs": [
    {
     "data": {
      "image/png": "[encoded data removed]",
      "text/plain": [
       "<Figure size 720x432 with 1 Axes>"
      ]
     },
     "metadata": {},
     "output_type": "display_data"
    }
   ],
   "source": [
    "plt.figure(figsize=(10,6))\n",
    "p1 = plt.hist(bj, density=True, bins=np.arange(0.5, 1.0, 0.03), color='steelblue', alpha =0.5)\n",
    "p2 = plt.hist(gd, density=True, bins=np.arange(0.5, 1.0, 0.03), color='red', alpha = 0.5)\n",
    "plt.title('Distribution of Negative Comments Within 3 days When Beijing Haze')\n",
    "plt.xlabel('Sentiment Score')\n",
    "plt.ylabel('Density (%)')\n",
    "plt.legend(['Beijing', 'Guangdong'], title='City')\n",
    "plt.savefig('p2.png')\n",
    "plt.show()"
   ]
  },
  {
   "cell_type": "markdown",
   "metadata": {},
   "source": [
    "基于训练好的模型（建议训练一个靠谱的模型为优先，如果有足够的标注样本做深度学习模型是最好的。）和抓取的微博评论，可以进行多方面的分析，限于项目时间暂时到此，欢迎提出想法和意见。"
   ]
  },
  {
   "cell_type": "code",
   "execution_count": null,
   "metadata": {},
   "outputs": [],
   "source": []
  }
 ],
 "metadata": {
  "kernelspec": {
   "display_name": "Python 3",
   "language": "python",
   "name": "python3"
  },
  "language_info": {
   "codemirror_mode": {
    "name": "ipython",
    "version": 3
   },
   "file_extension": ".py",
   "mimetype": "text/x-python",
   "name": "python",
   "nbconvert_exporter": "python",
   "pygments_lexer": "ipython3",
   "version": "3.6.6"
  }
 },
 "nbformat": 4,
 "nbformat_minor": 2
}
